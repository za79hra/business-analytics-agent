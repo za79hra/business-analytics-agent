{
 "cells": [
  {
   "cell_type": "code",
   "execution_count": 4,
   "id": "initial_id",
   "metadata": {
    "collapsed": true,
    "ExecuteTime": {
     "end_time": "2025-06-17T21:32:04.818530269Z",
     "start_time": "2025-06-17T21:32:04.750101872Z"
    }
   },
   "outputs": [
    {
     "name": "stdout",
     "output_type": "stream",
     "text": [
      "Output: {'input_data': {'today': {'revenue': 1000, 'cost': 700, 'customers': 10}, 'yesterday': {'revenue': 800, 'cost': 600, 'customers': 8}}, 'metrics': {'profit': 300, 'cac': 70.0, 'cac_change': -6.666666666666667, 'revenue_change': 25.0, 'cost_change': 16.666666666666664}, 'recommendations': {'profit': 300, 'cac': 70.0, 'alerts': ['Consider increasing advertising budget.']}}\n"
     ]
    }
   ],
   "source": [
    "from biz_insight_agent.graph_builder import build_agent_graph\n",
    "\n",
    "def test_agent_basic():\n",
    "  \n",
    "    input_data = {\n",
    "        \"input_data\": {\n",
    "            \"today\": {\"revenue\": 1000, \"cost\": 700, \"customers\": 10},\n",
    "            \"yesterday\": {\"revenue\": 800, \"cost\": 600, \"customers\": 8}\n",
    "        }\n",
    "    }\n",
    "\n",
    "    agent = build_agent_graph()\n",
    "    result = agent.invoke(input_data)\n",
    "\n",
    "    print(\"Output:\", result)\n",
    "\n",
    "    assert isinstance(result, dict), \"Result should be a dictionary\"\n",
    "    assert 'recommendations' in result, \"Result should include 'recommendations'\"\n",
    "    rec = result['recommendations']\n",
    "    assert 'profit' in rec and 'cac' in rec and 'alerts' in rec, \"Output keys are incomplete\"\n",
    "\n",
    "test_agent_basic()\n"
   ]
  },
  {
   "cell_type": "code",
   "outputs": [],
   "source": [],
   "metadata": {
    "collapsed": false
   },
   "id": "8316d017fbddfc13"
  }
 ],
 "metadata": {
  "kernelspec": {
   "display_name": "Python 3",
   "language": "python",
   "name": "python3"
  },
  "language_info": {
   "codemirror_mode": {
    "name": "ipython",
    "version": 2
   },
   "file_extension": ".py",
   "mimetype": "text/x-python",
   "name": "python",
   "nbconvert_exporter": "python",
   "pygments_lexer": "ipython2",
   "version": "2.7.6"
  }
 },
 "nbformat": 4,
 "nbformat_minor": 5
}
